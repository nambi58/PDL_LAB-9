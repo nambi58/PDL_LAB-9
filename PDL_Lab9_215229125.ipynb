{
  "nbformat": 4,
  "nbformat_minor": 0,
  "metadata": {
    "colab": {
      "provenance": [],
      "collapsed_sections": []
    },
    "kernelspec": {
      "name": "python3",
      "display_name": "Python 3"
    },
    "language_info": {
      "name": "python"
    }
  },
  "cells": [
    {
      "cell_type": "markdown",
      "source": [
        "**PDL_LAB 9: Image Classification using CNN for CIFAR-10 Data** "
      ],
      "metadata": {
        "id": "t15ZyFtp_GFo"
      }
    },
    {
      "cell_type": "markdown",
      "source": [
        "**Name: NAMBIRAJAN R S <BR>Roll NO: 215229125**\n",
        "\n",
        "```\n",
        "# This is formatted as code\n",
        "```\n",
        "\n"
      ],
      "metadata": {
        "id": "rbHe5z63R4Oy"
      }
    },
    {
      "cell_type": "markdown",
      "source": [
        "1. Import Libraries"
      ],
      "metadata": {
        "id": "YN5t2xLFAsLM"
      }
    },
    {
      "cell_type": "code",
      "source": [
        "from __future__ import print_function\n",
        "import keras\n",
        "from keras.datasets import cifar10\n",
        "from keras.preprocessing.image import ImageDataGenerator\n",
        "from keras.models import Sequential\n",
        "from keras.layers import Dense, Dropout, Activation, Flatten\n",
        "from keras.layers import Conv2D, MaxPooling2D\n",
        "from tensorflow.keras.utils import to_categorical\n",
        "from tensorflow.keras.optimizers import RMSprop,SGD,Adam\n",
        "import matplotlib.pyplot as plt\n",
        "%matplotlib inline"
      ],
      "metadata": {
        "id": "EZ-6Sqn2hRuQ"
      },
      "execution_count": null,
      "outputs": []
    },
    {
      "cell_type": "markdown",
      "source": [
        "2. LOAD YOUR DATA AND PRINT THE SHAPE OF TRAINING AND TEST SAMPLES"
      ],
      "metadata": {
        "id": "WDcAnQnKA0ni"
      }
    },
    {
      "cell_type": "code",
      "source": [
        "(x_train,y_train), (x_test, y_test)= cifar10.load_data()"
      ],
      "metadata": {
        "colab": {
          "base_uri": "https://localhost:8080/"
        },
        "id": "rdSHf35pAqLn",
        "outputId": "5c05352d-58f4-4979-89e9-3ed831ac3fb1"
      },
      "execution_count": null,
      "outputs": [
        {
          "output_type": "stream",
          "name": "stdout",
          "text": [
            "Downloading data from https://www.cs.toronto.edu/~kriz/cifar-10-python.tar.gz\n",
            "170500096/170498071 [==============================] - 2s 0us/step\n",
            "170508288/170498071 [==============================] - 2s 0us/step\n"
          ]
        }
      ]
    },
    {
      "cell_type": "code",
      "source": [
        "print('X_train:', x_train.shape)\n",
        "print(x_train.shape[0],'train samples')\n",
        "print(x_test.shape[0], 'test samples')"
      ],
      "metadata": {
        "colab": {
          "base_uri": "https://localhost:8080/"
        },
        "id": "QA9zXP35BLbT",
        "outputId": "b8538e98-da1f-4efc-f068-5338042d61a0"
      },
      "execution_count": null,
      "outputs": [
        {
          "output_type": "stream",
          "name": "stdout",
          "text": [
            "X_train: (50000, 32, 32, 3)\n",
            "50000 train samples\n",
            "10000 test samples\n"
          ]
        }
      ]
    },
    {
      "cell_type": "markdown",
      "source": [
        "3. Print the shape of one image (IS IT 32* 32 * 3 NUMPY ARRAY?)"
      ],
      "metadata": {
        "id": "uN1uRtKiBl-y"
      }
    },
    {
      "cell_type": "code",
      "source": [
        "x_train[444].shape"
      ],
      "metadata": {
        "colab": {
          "base_uri": "https://localhost:8080/"
        },
        "id": "zr5zALELBjcK",
        "outputId": "16f20119-ee17-4050-f2ec-21f7e83dd206"
      },
      "execution_count": null,
      "outputs": [
        {
          "output_type": "execute_result",
          "data": {
            "text/plain": [
              "(32, 32, 3)"
            ]
          },
          "metadata": {},
          "execution_count": 5
        }
      ]
    },
    {
      "cell_type": "markdown",
      "source": [
        "4. Display one image using imshow() function"
      ],
      "metadata": {
        "id": "P0En2OYuB5JR"
      }
    },
    {
      "cell_type": "code",
      "source": [
        "print(y_train[444])\n",
        "plt.imshow(x_train[444])"
      ],
      "metadata": {
        "colab": {
          "base_uri": "https://localhost:8080/",
          "height": 301
        },
        "id": "MMWVDP0-B1yQ",
        "outputId": "ad5bba4e-0f9f-497a-ef82-917e2189898f"
      },
      "execution_count": null,
      "outputs": [
        {
          "output_type": "stream",
          "name": "stdout",
          "text": [
            "[9]\n"
          ]
        },
        {
          "output_type": "execute_result",
          "data": {
            "text/plain": [
              "<matplotlib.image.AxesImage at 0x7ff3f645fa90>"
            ]
          },
          "metadata": {},
          "execution_count": 6
        },
        {
          "output_type": "display_data",
          "data": {
            "text/plain": [
              "<Figure size 432x288 with 1 Axes>"
            ],
            "image/png": "[encoded data removed]"
          },
          "metadata": {
            "needs_background": "light"
          }
        }
      ]
    },
    {
      "cell_type": "markdown",
      "source": [
        "5. Convert y_train and y_test into categorical values"
      ],
      "metadata": {
        "id": "U0VaakyrCIYv"
      }
    },
    {
      "cell_type": "code",
      "source": [
        "num_classes = 10\n",
        "y_train = to_categorical(y_train, num_classes)\n",
        "y_test = to_categorical(y_test, num_classes)"
      ],
      "metadata": {
        "id": "pQoe0QPXCGG3"
      },
      "execution_count": null,
      "outputs": []
    },
    {
      "cell_type": "code",
      "source": [
        "y_train[444]"
      ],
      "metadata": {
        "colab": {
          "base_uri": "https://localhost:8080/"
        },
        "id": "tCyfl9_xCwAl",
        "outputId": "d9f18b12-baff-4a38-dabc-64b731455c5c"
      },
      "execution_count": null,
      "outputs": [
        {
          "output_type": "execute_result",
          "data": {
            "text/plain": [
              "array([0., 0., 0., 0., 0., 0., 0., 0., 0., 1.], dtype=float32)"
            ]
          },
          "metadata": {},
          "execution_count": 18
        }
      ]
    },
    {
      "cell_type": "markdown",
      "source": [
        "6. Convert train data into float and scale"
      ],
      "metadata": {
        "id": "Dmjwyu3lEXcO"
      }
    },
    {
      "cell_type": "code",
      "source": [
        "x_train = x_train.astype('float32')\n",
        "x_test = x_test.astype('float32')\n",
        "x_train /= 255\n",
        "x_test /= 255"
      ],
      "metadata": {
        "id": "ue1UTV5JEVmH"
      },
      "execution_count": null,
      "outputs": []
    },
    {
      "cell_type": "markdown",
      "source": [
        "7. Build your first CNN"
      ],
      "metadata": {
        "id": "WJuctG_SEiC1"
      }
    },
    {
      "cell_type": "code",
      "source": [
        "INPUT_SHAPE = (32,32,3)\n",
        "model = Sequential()\n",
        "model.add(Conv2D(filters=32, kernel_size=(5,5),strides=(2,2),activation='relu', \n",
        "                 padding='same', input_shape=INPUT_SHAPE))\n",
        "model.add(Conv2D(filters=32, kernel_size=(5,5),strides=(2,2),activation='relu', \n",
        "                 padding='same', input_shape=INPUT_SHAPE))\n",
        "model.add(MaxPooling2D(pool_size=(2,2)))\n",
        "model.add(Dropout(rate=0.25))\n",
        "model.add(Flatten())\n",
        "model.add(Dense(512, activation='relu'))\n",
        "model.add(Dropout(rate=0.5))\n",
        "model.add(Dense(10, activation='softmax'))"
      ],
      "metadata": {
        "id": "8yQPbCseEfYd"
      },
      "execution_count": null,
      "outputs": []
    },
    {
      "cell_type": "code",
      "source": [
        "model.summary()"
      ],
      "metadata": {
        "colab": {
          "base_uri": "https://localhost:8080/"
        },
        "id": "J8i1VGhVE1VN",
        "outputId": "a5343f4a-7e13-45f2-9466-ae8560808303"
      },
      "execution_count": null,
      "outputs": [
        {
          "output_type": "stream",
          "name": "stdout",
          "text": [
            "Model: \"sequential\"\n",
            "_________________________________________________________________\n",
            " Layer (type)                Output Shape              Param #   \n",
            "=================================================================\n",
            " conv2d (Conv2D)             (None, 16, 16, 32)        2432      \n",
            "                                                                 \n",
            " conv2d_1 (Conv2D)           (None, 8, 8, 32)          25632     \n",
            "                                                                 \n",
            " max_pooling2d (MaxPooling2D  (None, 4, 4, 32)         0         \n",
            " )                                                               \n",
            "                                                                 \n",
            " dropout (Dropout)           (None, 4, 4, 32)          0         \n",
            "                                                                 \n",
            " flatten (Flatten)           (None, 512)               0         \n",
            "                                                                 \n",
            " dense (Dense)               (None, 512)               262656    \n",
            "                                                                 \n",
            " dropout_1 (Dropout)         (None, 512)               0         \n",
            "                                                                 \n",
            " dense_1 (Dense)             (None, 10)                5130      \n",
            "                                                                 \n",
            "=================================================================\n",
            "Total params: 295,850\n",
            "Trainable params: 295,850\n",
            "Non-trainable params: 0\n",
            "_________________________________________________________________\n"
          ]
        }
      ]
    },
    {
      "cell_type": "markdown",
      "source": [
        "9. Compile and fit and validate your model with the following parameters"
      ],
      "metadata": {
        "id": "v6R6wu23Fdvu"
      }
    },
    {
      "cell_type": "code",
      "source": [
        "model.compile(optimizer=RMSprop(lr=0.0005,decay=1e-6),\n",
        "              loss='categorical_crossentropy',metrics=['accuracy'])"
      ],
      "metadata": {
        "id": "sw5Q5aldE6H9"
      },
      "execution_count": null,
      "outputs": []
    },
    {
      "cell_type": "code",
      "source": [
        "history=model.fit(x_train,y_train,batch_size=32,epochs=15,\n",
        "                  verbose=2,validation_split=0.2,shuffle=True)"
      ],
      "metadata": {
        "colab": {
          "base_uri": "https://localhost:8080/"
        },
        "id": "dWVXbc0EGGv0",
        "outputId": "39f24a7e-ad12-4244-f068-9a753436a5a8"
      },
      "execution_count": null,
      "outputs": [
        {
          "output_type": "stream",
          "name": "stdout",
          "text": [
            "Epoch 1/15\n",
            "1250/1250 - 38s - loss: 1.7133 - accuracy: 0.3758 - val_loss: 1.4219 - val_accuracy: 0.4950 - 38s/epoch - 30ms/step\n",
            "Epoch 2/15\n",
            "1250/1250 - 35s - loss: 1.4178 - accuracy: 0.4920 - val_loss: 1.3129 - val_accuracy: 0.5445 - 35s/epoch - 28ms/step\n",
            "Epoch 3/15\n",
            "1250/1250 - 35s - loss: 1.3116 - accuracy: 0.5314 - val_loss: 1.3087 - val_accuracy: 0.5509 - 35s/epoch - 28ms/step\n",
            "Epoch 4/15\n",
            "1250/1250 - 38s - loss: 1.2423 - accuracy: 0.5599 - val_loss: 1.1266 - val_accuracy: 0.6107 - 38s/epoch - 30ms/step\n",
            "Epoch 5/15\n",
            "1250/1250 - 37s - loss: 1.1958 - accuracy: 0.5766 - val_loss: 1.1269 - val_accuracy: 0.6069 - 37s/epoch - 29ms/step\n",
            "Epoch 6/15\n",
            "1250/1250 - 38s - loss: 1.1580 - accuracy: 0.5903 - val_loss: 1.1027 - val_accuracy: 0.6067 - 38s/epoch - 31ms/step\n",
            "Epoch 7/15\n",
            "1250/1250 - 37s - loss: 1.1274 - accuracy: 0.6009 - val_loss: 1.0631 - val_accuracy: 0.6249 - 37s/epoch - 30ms/step\n",
            "Epoch 8/15\n",
            "1250/1250 - 35s - loss: 1.1038 - accuracy: 0.6151 - val_loss: 1.1612 - val_accuracy: 0.6068 - 35s/epoch - 28ms/step\n",
            "Epoch 9/15\n",
            "1250/1250 - 43s - loss: 1.0903 - accuracy: 0.6183 - val_loss: 1.0328 - val_accuracy: 0.6375 - 43s/epoch - 35ms/step\n",
            "Epoch 10/15\n",
            "1250/1250 - 35s - loss: 1.0739 - accuracy: 0.6238 - val_loss: 1.0403 - val_accuracy: 0.6390 - 35s/epoch - 28ms/step\n",
            "Epoch 11/15\n",
            "1250/1250 - 36s - loss: 1.0638 - accuracy: 0.6291 - val_loss: 1.0488 - val_accuracy: 0.6416 - 36s/epoch - 29ms/step\n",
            "Epoch 12/15\n",
            "1250/1250 - 36s - loss: 1.0533 - accuracy: 0.6359 - val_loss: 1.0803 - val_accuracy: 0.6301 - 36s/epoch - 29ms/step\n",
            "Epoch 13/15\n",
            "1250/1250 - 35s - loss: 1.0445 - accuracy: 0.6393 - val_loss: 1.0167 - val_accuracy: 0.6412 - 35s/epoch - 28ms/step\n",
            "Epoch 14/15\n",
            "1250/1250 - 37s - loss: 1.0438 - accuracy: 0.6396 - val_loss: 1.0554 - val_accuracy: 0.6416 - 37s/epoch - 30ms/step\n",
            "Epoch 15/15\n",
            "1250/1250 - 36s - loss: 1.0442 - accuracy: 0.6396 - val_loss: 1.0260 - val_accuracy: 0.6451 - 36s/epoch - 29ms/step\n"
          ]
        }
      ]
    },
    {
      "cell_type": "code",
      "source": [
        "score = model.evaluate(x_test, y_test, verbose=0)\n",
        "print('Test loss:', score[0])\n",
        "print('Test accuracy:', score[1])"
      ],
      "metadata": {
        "colab": {
          "base_uri": "https://localhost:8080/"
        },
        "id": "0X_EcQaYHvL0",
        "outputId": "00d4e95f-f338-412a-8adb-cfdb8c0a45c5"
      },
      "execution_count": null,
      "outputs": [
        {
          "output_type": "stream",
          "name": "stdout",
          "text": [
            "Test loss: 1.0295120477676392\n",
            "Test accuracy: 0.6491000056266785\n"
          ]
        }
      ]
    },
    {
      "cell_type": "markdown",
      "source": [
        "**Part-2 Model Improvements**"
      ],
      "metadata": {
        "id": "UeiTs4CwHlXk"
      }
    },
    {
      "cell_type": "markdown",
      "source": [
        "1. Build a more complicated model with the following pattern: Conv -> Conv->\n",
        "MaxPool -> Conv-> Conv -> MaxPool -> (Flatten) -> Dense -> Final Classification\n",
        "2. Use strides of 1 for all convolutional layers.\n",
        "3. How many parameters does your model have? How does that compare to the\n",
        "previous model?\n",
        "4. Train it for 5 epochs. What do you notice about the training time, loss and accuracy\n",
        "numbers (on both the training and validation sets)?\n",
        "5. Try different structures and run times, and see how accurate your model can be."
      ],
      "metadata": {
        "id": "K8PCiHIjI3ni"
      }
    },
    {
      "cell_type": "markdown",
      "source": [
        "**Model 1**"
      ],
      "metadata": {
        "id": "qi3UcoaVJIgz"
      }
    },
    {
      "cell_type": "code",
      "source": [
        "INPUT_SHAPE = (32,32,3)\n",
        "model1 = Sequential()\n",
        "model1.add(Conv2D(filters=64, kernel_size=(5,5),strides=(1,1),activation='relu', padding='same', input_shape=INPUT_SHAPE))\n",
        "model1.add(Conv2D(filters=32, kernel_size=(4,4),strides=(1,1),activation='relu', padding='same', input_shape=INPUT_SHAPE))\n",
        "model1.add(MaxPooling2D(pool_size=(2,2)))\n",
        "model1.add(Flatten())\n",
        "model1.add(Dense(512, activation='relu'))\n",
        "model1.add(Dense(256, activation='relu'))\n",
        "model1.add(Dense(10, activation='softmax'))"
      ],
      "metadata": {
        "id": "wncsCCjxG6kz"
      },
      "execution_count": null,
      "outputs": []
    },
    {
      "cell_type": "code",
      "source": [
        "model1.summary()"
      ],
      "metadata": {
        "colab": {
          "base_uri": "https://localhost:8080/"
        },
        "id": "WFhuy3j9JT3s",
        "outputId": "e5eb3b16-caea-4310-bde8-8af5905d3031"
      },
      "execution_count": null,
      "outputs": [
        {
          "output_type": "stream",
          "name": "stdout",
          "text": [
            "Model: \"sequential_1\"\n",
            "_________________________________________________________________\n",
            " Layer (type)                Output Shape              Param #   \n",
            "=================================================================\n",
            " conv2d_2 (Conv2D)           (None, 32, 32, 64)        4864      \n",
            "                                                                 \n",
            " conv2d_3 (Conv2D)           (None, 32, 32, 32)        32800     \n",
            "                                                                 \n",
            " max_pooling2d_1 (MaxPooling  (None, 16, 16, 32)       0         \n",
            " 2D)                                                             \n",
            "                                                                 \n",
            " flatten_1 (Flatten)         (None, 8192)              0         \n",
            "                                                                 \n",
            " dense_2 (Dense)             (None, 512)               4194816   \n",
            "                                                                 \n",
            " dense_3 (Dense)             (None, 256)               131328    \n",
            "                                                                 \n",
            " dense_4 (Dense)             (None, 10)                2570      \n",
            "                                                                 \n",
            "=================================================================\n",
            "Total params: 4,366,378\n",
            "Trainable params: 4,366,378\n",
            "Non-trainable params: 0\n",
            "_________________________________________________________________\n"
          ]
        }
      ]
    },
    {
      "cell_type": "code",
      "source": [
        "model1.compile(optimizer=RMSprop(lr=0.0005,decay=1e-6),\n",
        "               loss='categorical_crossentropy',metrics=['accuracy'])"
      ],
      "metadata": {
        "colab": {
          "base_uri": "https://localhost:8080/"
        },
        "id": "s9VoxskcJ2uv",
        "outputId": "ace9134f-d68b-4130-d169-1e6135733804"
      },
      "execution_count": null,
      "outputs": [
        {
          "output_type": "stream",
          "name": "stderr",
          "text": [
            "/usr/local/lib/python3.7/dist-packages/keras/optimizer_v2/rmsprop.py:130: UserWarning: The `lr` argument is deprecated, use `learning_rate` instead.\n",
            "  super(RMSprop, self).__init__(name, **kwargs)\n"
          ]
        }
      ]
    },
    {
      "cell_type": "code",
      "source": [
        "history1=model1.fit(x_train,y_train,batch_size=32,epochs=5,\n",
        "                  verbose=2,validation_split=0.2,shuffle=True)"
      ],
      "metadata": {
        "colab": {
          "base_uri": "https://localhost:8080/"
        },
        "id": "WlG_Pjl8KC4I",
        "outputId": "5920d29d-f594-4971-811d-fdedda2eb116"
      },
      "execution_count": null,
      "outputs": [
        {
          "output_type": "stream",
          "name": "stdout",
          "text": [
            "Epoch 1/5\n",
            "1250/1250 - 556s - loss: 1.4815 - accuracy: 0.4689 - val_loss: 1.2041 - val_accuracy: 0.5730 - 556s/epoch - 445ms/step\n",
            "Epoch 2/5\n",
            "1250/1250 - 562s - loss: 1.0357 - accuracy: 0.6356 - val_loss: 1.0118 - val_accuracy: 0.6451 - 562s/epoch - 449ms/step\n",
            "Epoch 3/5\n",
            "1250/1250 - 542s - loss: 0.7904 - accuracy: 0.7261 - val_loss: 0.9275 - val_accuracy: 0.6886 - 542s/epoch - 433ms/step\n",
            "Epoch 4/5\n",
            "1250/1250 - 544s - loss: 0.5793 - accuracy: 0.8009 - val_loss: 1.0348 - val_accuracy: 0.6767 - 544s/epoch - 435ms/step\n",
            "Epoch 5/5\n",
            "1250/1250 - 533s - loss: 0.3971 - accuracy: 0.8652 - val_loss: 1.2270 - val_accuracy: 0.6805 - 533s/epoch - 426ms/step\n"
          ]
        }
      ]
    },
    {
      "cell_type": "code",
      "source": [
        "score = model1.evaluate(x_test, y_test, verbose=0)\n",
        "print('Test loss:', score[0])\n",
        "print('Test accuracy:', score[1])"
      ],
      "metadata": {
        "colab": {
          "base_uri": "https://localhost:8080/"
        },
        "id": "dSA6ymKLKJxw",
        "outputId": "cc48ea8b-5fd1-4f8e-9e4c-208b9d103389"
      },
      "execution_count": null,
      "outputs": [
        {
          "output_type": "stream",
          "name": "stdout",
          "text": [
            "Test loss: 1.2496305704116821\n",
            "Test accuracy: 0.6789000034332275\n"
          ]
        }
      ]
    },
    {
      "cell_type": "markdown",
      "source": [
        "**Model 2**"
      ],
      "metadata": {
        "id": "M588cgLnKrqI"
      }
    },
    {
      "cell_type": "code",
      "source": [
        "model2 = Sequential()\n",
        "model2.add(Conv2D(32, kernel_size=3, activation='relu', padding='same',\n",
        "                  input_shape=(32,32,3)))\n",
        "model2.add(Conv2D(32, kernel_size=3, activation='relu', padding='same'))\n",
        "model2.add(MaxPooling2D())\n",
        "model2.add(Dropout(0.2))\n",
        "model2.add(Conv2D(64, kernel_size=3, activation='relu', padding='same'))\n",
        "model2.add(Conv2D(64, kernel_size=3, activation='relu', padding='same'))\n",
        "model2.add(MaxPooling2D())\n",
        "model2.add(Dropout(0.3))\n",
        "model2.add(Conv2D(128, kernel_size=3, activation='relu', padding='same'))\n",
        "model2.add(Conv2D(128, kernel_size=3, activation='relu', padding='same'))\n",
        "model2.add(MaxPooling2D())\n",
        "model2.add(Dropout(0.4))\n",
        "model2.add(Flatten())\n",
        "model2.add(Dense(128, activation='relu'))\n",
        "model2.add(Dropout(0.4))\n",
        "model2.add(Dense(10, activation='softmax'))"
      ],
      "metadata": {
        "id": "0xceKETLKrSY"
      },
      "execution_count": null,
      "outputs": []
    },
    {
      "cell_type": "code",
      "source": [
        "model2.compile(loss='categorical_crossentropy', optimizer=Adam(0.001), metrics=['accuracy'])"
      ],
      "metadata": {
        "id": "YWGLhHGFLEk_"
      },
      "execution_count": null,
      "outputs": []
    },
    {
      "cell_type": "code",
      "source": [
        "model2.summary()"
      ],
      "metadata": {
        "colab": {
          "base_uri": "https://localhost:8080/"
        },
        "id": "gYRQgceSLHRg",
        "outputId": "6ec44b28-1130-4359-bc40-0519d4d6a49a"
      },
      "execution_count": null,
      "outputs": [
        {
          "output_type": "stream",
          "name": "stdout",
          "text": [
            "Model: \"sequential_2\"\n",
            "_________________________________________________________________\n",
            " Layer (type)                Output Shape              Param #   \n",
            "=================================================================\n",
            " conv2d_4 (Conv2D)           (None, 32, 32, 32)        896       \n",
            "                                                                 \n",
            " conv2d_5 (Conv2D)           (None, 32, 32, 32)        9248      \n",
            "                                                                 \n",
            " max_pooling2d_2 (MaxPooling  (None, 16, 16, 32)       0         \n",
            " 2D)                                                             \n",
            "                                                                 \n",
            " dropout_2 (Dropout)         (None, 16, 16, 32)        0         \n",
            "                                                                 \n",
            " conv2d_6 (Conv2D)           (None, 16, 16, 64)        18496     \n",
            "                                                                 \n",
            " conv2d_7 (Conv2D)           (None, 16, 16, 64)        36928     \n",
            "                                                                 \n",
            " max_pooling2d_3 (MaxPooling  (None, 8, 8, 64)         0         \n",
            " 2D)                                                             \n",
            "                                                                 \n",
            " dropout_3 (Dropout)         (None, 8, 8, 64)          0         \n",
            "                                                                 \n",
            " conv2d_8 (Conv2D)           (None, 8, 8, 128)         73856     \n",
            "                                                                 \n",
            " conv2d_9 (Conv2D)           (None, 8, 8, 128)         147584    \n",
            "                                                                 \n",
            " max_pooling2d_4 (MaxPooling  (None, 4, 4, 128)        0         \n",
            " 2D)                                                             \n",
            "                                                                 \n",
            " dropout_4 (Dropout)         (None, 4, 4, 128)         0         \n",
            "                                                                 \n",
            " flatten_2 (Flatten)         (None, 2048)              0         \n",
            "                                                                 \n",
            " dense_5 (Dense)             (None, 128)               262272    \n",
            "                                                                 \n",
            " dropout_5 (Dropout)         (None, 128)               0         \n",
            "                                                                 \n",
            " dense_6 (Dense)             (None, 10)                1290      \n",
            "                                                                 \n",
            "=================================================================\n",
            "Total params: 550,570\n",
            "Trainable params: 550,570\n",
            "Non-trainable params: 0\n",
            "_________________________________________________________________\n"
          ]
        }
      ]
    },
    {
      "cell_type": "code",
      "source": [
        "model2.compile(optimizer='adam',loss='categorical_crossentropy',metrics=['accuracy'])"
      ],
      "metadata": {
        "id": "H9BJTvX6LKxv"
      },
      "execution_count": null,
      "outputs": []
    },
    {
      "cell_type": "code",
      "source": [
        "history2 = model2.fit(x_train,y_train,epochs=10,verbose=1)"
      ],
      "metadata": {
        "colab": {
          "base_uri": "https://localhost:8080/"
        },
        "id": "mmsJDLH0LNPA",
        "outputId": "670338fc-61f3-4598-e70c-81ec0ccc54d7"
      },
      "execution_count": null,
      "outputs": [
        {
          "output_type": "stream",
          "name": "stdout",
          "text": [
            "Epoch 1/10\n",
            "1563/1563 [==============================] - 420s 268ms/step - loss: 1.7100 - accuracy: 0.3583\n",
            "Epoch 2/10\n",
            "1563/1563 [==============================] - 411s 263ms/step - loss: 1.3051 - accuracy: 0.5299\n",
            "Epoch 3/10\n",
            "1563/1563 [==============================] - 413s 264ms/step - loss: 1.1307 - accuracy: 0.6001\n",
            "Epoch 4/10\n",
            "1563/1563 [==============================] - 412s 264ms/step - loss: 1.0251 - accuracy: 0.6408\n",
            "Epoch 5/10\n",
            "1563/1563 [==============================] - 422s 270ms/step - loss: 0.9573 - accuracy: 0.6653\n",
            "Epoch 6/10\n",
            "1563/1563 [==============================] - 410s 262ms/step - loss: 0.9123 - accuracy: 0.6817\n",
            "Epoch 7/10\n",
            "1563/1563 [==============================] - 408s 261ms/step - loss: 0.8760 - accuracy: 0.6949\n",
            "Epoch 8/10\n",
            "1563/1563 [==============================] - 415s 265ms/step - loss: 0.8469 - accuracy: 0.7037\n",
            "Epoch 9/10\n",
            "1563/1563 [==============================] - 417s 267ms/step - loss: 0.8255 - accuracy: 0.7111\n",
            "Epoch 10/10\n",
            "1563/1563 [==============================] - 418s 267ms/step - loss: 0.8024 - accuracy: 0.7212\n"
          ]
        }
      ]
    },
    {
      "cell_type": "code",
      "source": [
        "score1 = model2.evaluate(x_test, y_test, verbose=0)\n",
        "print('Test loss:', score1[0])\n",
        "print('Test accuracy:', score1[1])"
      ],
      "metadata": {
        "colab": {
          "base_uri": "https://localhost:8080/"
        },
        "id": "rHgmPxUyLPKI",
        "outputId": "3e8eb584-3e9e-4b4b-8c67-236ad2be6ef8"
      },
      "execution_count": null,
      "outputs": [
        {
          "output_type": "stream",
          "name": "stdout",
          "text": [
            "Test loss: 0.7016170620918274\n",
            "Test accuracy: 0.7584999799728394\n"
          ]
        }
      ]
    }
  ]
}